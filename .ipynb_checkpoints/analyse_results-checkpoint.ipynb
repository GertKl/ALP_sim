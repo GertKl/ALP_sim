{
 "cells": [
  {
   "cell_type": "code",
   "execution_count": null,
   "id": "76c1972f-7499-4593-a74d-6b95eff33c41",
   "metadata": {},
   "outputs": [],
   "source": [
    "loaded_modules=0"
   ]
  },
  {
   "cell_type": "code",
   "execution_count": null,
   "id": "56a72948-a8b3-47d3-b76d-61a973d1ee8b",
   "metadata": {},
   "outputs": [],
   "source": [
    "import os\n",
    "import sys\n",
    "import numpy as np\n",
    "import swyft\n",
    "import pickle\n",
    "import matplotlib.pyplot as plt\n",
    "import torch\n",
    "import importlib\n",
    "from pytorch_lightning.loggers import WandbLogger\n",
    "from pytorch_lightning.callbacks import LearningRateMonitor\n",
    "import wandb\n",
    "import copy"
   ]
  },
  {
   "cell_type": "code",
   "execution_count": null,
   "id": "85e74384-50f1-4fca-9917-b291f6c4f0cc",
   "metadata": {},
   "outputs": [],
   "source": [
    "results_dir_local=os.getcwd()"
   ]
  },
  {
   "cell_type": "code",
   "execution_count": null,
   "id": "4bd5d456-b75d-4c4e-a015-7221bfd0d8b2",
   "metadata": {},
   "outputs": [],
   "source": [
    "config_trial = None\n",
    "physics_trial = None\n",
    "store_trial = None\n",
    "net_trial = None\n",
    "\n",
    "\n",
    "in_archive = True if len(results_dir_local.split(\"/archive/\")) != 1 else False\n",
    "if config_trial == None:\n",
    "    config_path = results_dir_local+\"/config_variables.pickle\"\n",
    "elif config_trial>-1:\n",
    "    config_path = results_dir_local.split(\"/archive/\")[0]+\"/archive/trial__\"+str(physics_trial)+\"/config_variables.pickle\"\n",
    "else:\n",
    "    config_path = results_dir_local.split(\"/archive/\")[0]+\"/config_variables.pickle\"\n",
    "if physics_trial == None:\n",
    "    physics_path = results_dir_local+\"/physics_variables.pickle\"\n",
    "elif physics_trial>-1:\n",
    "    physics_path = results_dir_local.split(\"/archive/\")[0]+\"/archive/trial__\"+str(physics_trial)+\"/physics_variables.pickle\"\n",
    "else:\n",
    "    physics_path = results_dir_local.split(\"/archive/\")[0]+\"/physics_variables.pickle\"\n",
    "if store_trial == None:\n",
    "    store_path = results_dir_local+\"/sim_output/store\" if not in_archive else results_dir_local+\"/store\"\n",
    "elif store_trial>-1:\n",
    "    store_path = results_dir_local.split(\"/archive/\")[0]+\"/archive/trial__\"+str(store_trial)+\"/store\"\n",
    "else:\n",
    "    store_path = results_dir_local.split(\"/archive/\")[0]+\"/sim_output/store\"\n",
    "if net_trial == None:\n",
    "    net_path = results_dir_local+\"/train_output/net\" if not in_archive else results_dir_local+\"/net\"\n",
    "elif net_trial>-1:\n",
    "    net_path = results_dir_local.split(\"/archive/\")[0]+\"/archive/trial__\"+str(net_trial)+\"/net\"\n",
    "else:\n",
    "    net_path = results_dir_local.split(\"/archive/\")[0]+\"/train_output/net\"\n",
    "\n",
    "if loaded_modules:\n",
    "    importlib.reload(network)\n",
    "    importlib.reload(ALP_quick_sim)\n",
    "    importlib.reload(alp_swyft_simulator)\n",
    "    importlib.reload(param_func)\n",
    "    \n",
    "sys.path.append(results_dir_local)\n",
    "import ALP_quick_sim\n",
    "ALP_sim = ALP_quick_sim.ALP_sim\n",
    "import alp_swyft_simulator \n",
    "ALP_SWYFT_Simulator = alp_swyft_simulator.ALP_SWYFT_Simulator\n",
    "sys.path.append(physics_path)\n",
    "import param_function as param_func\n",
    "param_function = param_func.param_function\n",
    "sys.path.append(net_path)\n",
    "import network \n",
    "Network = network.Network\n",
    "loaded_modules=1   "
   ]
  },
  {
   "cell_type": "code",
   "execution_count": null,
   "id": "cd37769d-17ce-4e24-abcf-9f9988bca09f",
   "metadata": {},
   "outputs": [],
   "source": [
    "with open(physics_path, 'rb') as file:\n",
    "    config_objects = pickle.load(file)\n",
    "for key in config_objects.keys():\n",
    "    locals()[key] = config_objects[key]\n",
    "with open(config_path, 'rb') as file:\n",
    "    config_objects = pickle.load(file)\n",
    "for key in config_objects.keys():\n",
    "    locals()[key] = config_objects[key]\n",
    "results_dir = results_dir_local"
   ]
  },
  {
   "cell_type": "code",
   "execution_count": null,
   "id": "e9b10a3a-e7fc-46e1-9a4b-82eda2429384",
   "metadata": {},
   "outputs": [],
   "source": [
    "sim = ALP_SWYFT_Simulator(A, bounds)"
   ]
  },
  {
   "cell_type": "code",
   "execution_count": null,
   "id": "99ec7abe-36e5-4a81-8ae7-e21bb4f9f972",
   "metadata": {},
   "outputs": [],
   "source": [
    "bounds"
   ]
  },
  {
   "cell_type": "code",
   "execution_count": null,
   "id": "719e1ee3-228f-487f-9b16-15896dd3f9e1",
   "metadata": {},
   "outputs": [],
   "source": []
  },
  {
   "cell_type": "code",
   "execution_count": null,
   "id": "3c945e56-0bbb-4cf7-a64e-f10467b42183",
   "metadata": {},
   "outputs": [],
   "source": []
  },
  {
   "cell_type": "code",
   "execution_count": null,
   "id": "8e31644d-b158-402c-9b93-87c05341b6ec",
   "metadata": {},
   "outputs": [],
   "source": []
  },
  {
   "cell_type": "code",
   "execution_count": null,
   "id": "03cbc366-71b1-44d8-b224-4d95fa30a5e7",
   "metadata": {},
   "outputs": [],
   "source": [
    "colors = [\n",
    "    'r',\n",
    "    '#FFA500',\n",
    "    'y',\n",
    "    'g',\n",
    "    'b',\n",
    "    'k'\n",
    "]\n",
    "\n",
    "\n",
    "truths = [A.null_params]\n",
    "print(truths)"
   ]
  },
  {
   "cell_type": "code",
   "execution_count": null,
   "id": "8b6a8dd1-e43c-4f1b-967a-8b61f16f50d9",
   "metadata": {},
   "outputs": [],
   "source": []
  },
  {
   "cell_type": "code",
   "execution_count": null,
   "id": "ac6b7f6c-20b0-46c1-afaf-11135269004a",
   "metadata": {},
   "outputs": [],
   "source": []
  },
  {
   "cell_type": "code",
   "execution_count": null,
   "id": "c65d0a1b-b1c8-465a-9f27-deecaf7d556d",
   "metadata": {},
   "outputs": [],
   "source": []
  },
  {
   "cell_type": "code",
   "execution_count": null,
   "id": "68ec31e1-38f6-48a5-839d-812fe1219cf6",
   "metadata": {},
   "outputs": [],
   "source": []
  },
  {
   "cell_type": "code",
   "execution_count": null,
   "id": "66f916e7-47a1-40da-af49-b9c994f8c5e8",
   "metadata": {},
   "outputs": [],
   "source": [
    "observations = []\n",
    "for tru in truths:\n",
    "    sim.A.configure_model(ALP_seed=0)\n",
    "    obs_exp=sim.generate_exp(tru)\n",
    "    obs_data = sim.generate_data(obs_exp,tru)\n",
    "    observations.append(swyft.Sample(data=obs_data, exp=obs_exp, params=tru))\n",
    "sim.A.configure_model(ALP_seed=None)"
   ]
  },
  {
   "cell_type": "code",
   "execution_count": null,
   "id": "0370008e-32d8-4e4d-b5f2-309e34e5fa3d",
   "metadata": {},
   "outputs": [],
   "source": [
    "store = swyft.ZarrStore(store_path + \"/\" + store_name)\n",
    "samples = store.get_sample_store()"
   ]
  },
  {
   "cell_type": "code",
   "execution_count": null,
   "id": "20d74681-e5d1-4dfe-92ae-b707b1a203e0",
   "metadata": {},
   "outputs": [],
   "source": [
    "len(store)"
   ]
  },
  {
   "cell_type": "code",
   "execution_count": null,
   "id": "e3e840b2-946a-49ef-977f-f4f042ecfd9a",
   "metadata": {
    "scrolled": true
   },
   "outputs": [],
   "source": [
    "plt.figure(figsize=(8,2))\n",
    "for i in range(len(bounds)):\n",
    "    plt.subplot(1,len(samples['params'][i]),i+1)\n",
    "    plt.hist(samples['params'][:,i])"
   ]
  },
  {
   "cell_type": "code",
   "execution_count": null,
   "id": "a352034a-b80b-486c-8757-f6bd398e77d0",
   "metadata": {},
   "outputs": [],
   "source": [
    "len(samples['params'][0])"
   ]
  },
  {
   "cell_type": "code",
   "execution_count": null,
   "id": "4ff68a6f-f196-45c1-ad16-3e56e7ee7ec2",
   "metadata": {},
   "outputs": [],
   "source": [
    "A.configure_plot(xmin=None, xmax=None, ymin=None,ymax=None,legend=0, logx=1, logy=0)\n",
    "for i in range(min(len(samples),100)):\n",
    "    A.configure_model(params=samples[i]['params'])\n",
    "    A.import_counts(obs=samples[i]['data'],exp=samples[i]['exp'])\n",
    "    new_fig = 1 if i==0 else 0\n",
    "    A.compute_case(new_fig=new_fig,new_counts=0,color=None,color_obs=None,linestyle=\"-\",\n",
    "                   label_exp=0,label_obs=False, errorbands=False, errors=False, plot_exp=0, transparency=0.7)\n",
    "    \n",
    "for i,obs in enumerate(observations):\n",
    "    A.configure_model(params=obs['params'])\n",
    "    A.import_counts(obs=obs['data'],exp=obs['exp'])\n",
    "    shade = i/(len(observations)+1)\n",
    "    A.compute_case(new_fig=0,new_counts=0,color='k',color_obs=colors[i],linestyle_obs=\"-\",label_exp=0,label_obs=0,\n",
    "                   errorbands=0, errors=0, plot_exp=0)\n",
    "    A.compute_case(new_fig=0,new_counts=0,color=colors[i],color_obs=colors[i],linestyle=\":\",label_exp=0,label_obs=0,\n",
    "                        errorbands=0, errors=0, plot_obs=0) "
   ]
  },
  {
   "cell_type": "code",
   "execution_count": null,
   "id": "a7e2aa13-f706-4af3-94c4-8805760cc648",
   "metadata": {},
   "outputs": [],
   "source": [
    "prior_samples = sim.sample(100_000, targets=['params'])"
   ]
  },
  {
   "cell_type": "code",
   "execution_count": null,
   "id": "57e71a38-20f7-452d-a6c1-6d4c055bacb7",
   "metadata": {},
   "outputs": [],
   "source": [
    "new_net = Network(nbins=A.nbins, marginals=POI_indices, param_names=A.param_names)\n",
    "new_net.load_state_dict(torch.load(net_path+'/trained_network.pt'))"
   ]
  },
  {
   "cell_type": "code",
   "execution_count": null,
   "id": "eef11cb3-9b1b-449b-bd7e-339a82b0f4f0",
   "metadata": {},
   "outputs": [],
   "source": [
    "lr_monitor = LearningRateMonitor(logging_interval='step')\n",
    "trainer = swyft.SwyftTrainer(\n",
    "    accelerator = 'cpu', precision = 64, #logger=wandb_logger, # min_epochs =25,\n",
    "    callbacks = [lr_monitor], log_every_n_steps=10,\n",
    ")"
   ]
  },
  {
   "cell_type": "code",
   "execution_count": null,
   "id": "465bce36-60ac-465f-b26e-6355c6599f17",
   "metadata": {},
   "outputs": [],
   "source": [
    "logratios = list(np.zeros(len(truths)))\n",
    "for j in range(len(truths)):\n",
    "    plt.figure(figsize=(10,2))\n",
    "    logratios[j] = trainer.infer(\n",
    "                            new_net,\n",
    "                            observations[j],\n",
    "                            prior_samples\n",
    "                            )\n",
    "\n"
   ]
  },
  {
   "cell_type": "code",
   "execution_count": null,
   "id": "3ef1e324-71d7-4b9a-bffc-a6787a60f77a",
   "metadata": {},
   "outputs": [],
   "source": [
    "for j in range(len(truths)):\n",
    "    swyft.plot_posterior(logratios[j], \n",
    "                         np.array(A.param_names)[POI_indices], \n",
    "                         truth={A.param_names[i]:truths[j][i] for i in POI_indices}, \n",
    "                         color_truth=colors[j]\n",
    "                        )"
   ]
  },
  {
   "cell_type": "code",
   "execution_count": null,
   "id": "91d030a4-0a11-4b0b-853b-b4c23ba1e494",
   "metadata": {},
   "outputs": [],
   "source": [
    "for j in range(len(truths)):\n",
    "    swyft.plot_corner(logratios[j], \n",
    "                      np.array(A.param_names)[POI_indices], \n",
    "                      truth={A.param_names[i]:truths[j][i] for i in POI_indices},\n",
    "                      color_truth=colors[j],\n",
    "                      smooth=3\n",
    "                     )"
   ]
  },
  {
   "cell_type": "code",
   "execution_count": null,
   "id": "61fa28ad-3cde-4a69-9588-69e6af7725b8",
   "metadata": {},
   "outputs": [],
   "source": [
    "def find_POI_matches(POI_indices, target_values, ns=None, bounds=bounds, samples=samples):\n",
    "    if not ns: ns = np.ones(len(POI_indices))*5\n",
    "    matches = list(np.zeros(len(POI_indices)))#,dtype=int))\n",
    "    max_is = list(np.zeros(len(POI_indices)))#,dtype=int))\n",
    "    for i in range(len(POI_indices)): \n",
    "        matches[i] = np.full(ns[i], None)\n",
    "        max_is[i] = 0\n",
    "    for samp_i in np.arange(0,len(samples)):\n",
    "        for j in range(len(POI_indices)):\n",
    "            current_max = abs(samples[\"params\"][matches[j][max_is[j]]][POI_indices[j]]-target_values[j]) if not np.any(matches[j]==None) else np.inf\n",
    "            if abs(samples['params'][samp_i][POI_indices[j]]-target_values[j]) <= current_max:\n",
    "                within_bounds = 1\n",
    "                if not ( np.any(samples[\"params\"][samp_i,:] < np.array(bounds)[:,0]) or np.any(samples[\"params\"][samp_i,:] > np.array(bounds)[:,1]) ):\n",
    "                    nones = np.where(matches[j]==None)[0]\n",
    "                    if len(nones)==0:\n",
    "                        matches[j][max_is[j]] = int(samp_i)\n",
    "                        max_is[j] = int(np.argmax(abs(samples[\"params\"][matches[j]][:,POI_indices[j]]-target_values[j]))) \n",
    "                    else:\n",
    "                        max_is[j] = int(nones[0])\n",
    "                        matches[j][max_is[j]] = int(samp_i)\n",
    "                        if max_is[j]==ns[j]-1: matches[j] = [int(x) for x in matches[j]]\n",
    "\n",
    "    for i in range(len(POI_indices)): \n",
    "        matches[i] = np.array(matches[i])[np.array(matches[i])!=None]\n",
    "        if len(matches[i])==0:\n",
    "            raise ValueError(\"There were no matches to these bounds!\")\n",
    "        \n",
    "    return matches\n",
    "\n",
    "def plot_POI_matches(POI_indices, target_values, ns=None, colors=['r','g','c','b'], bounds=bounds, samples=samples):\n",
    "    if not ns: ns = np.ones(len(POI_indices))*5\n",
    "    matches = list(np.zeros(len(POI_indices)))\n",
    "    matches = find_POI_matches(POI_indices, target_values, ns=ns, bounds=bounds, samples=samples)\n",
    "    plt.figure(figsize=(8,2))\n",
    "    for i in range(len(POI_indices)):\n",
    "        plt.subplot(1,len(POI_indices),i+1)\n",
    "        plt.hist(samples['params'][matches[i],POI_indices[i]], range=bounds[POI_indices[i]],bins=50)\n",
    "        plt.title(A.param_names[POI_indices[0]] + \" = \" + str(target_values[i]))\n",
    "    A.configure_plot(xmin = None, xmax = None, ymin=None, ymax=None, logx=1, legend = 1)\n",
    "    A.compute_case(new_fig=1,null=1,plot_obs=0,color=\"k\",linestyle=\"--\", label_exp=1)\n",
    "    for i, _ in enumerate(matches):\n",
    "        for j, match in enumerate(matches[i]):\n",
    "            A.configure_model(params=samples[\"params\"][match])\n",
    "            A.import_counts(exp=samples[\"exp\"][match])\n",
    "            A.compute_case(new_fig=0,new_counts=0,plot_obs=0,color=colors[i],label_exp=0, errorbands=False, transparency=0.5)    \n",
    "    \n",
    "    return matches"
   ]
  },
  {
   "cell_type": "code",
   "execution_count": null,
   "id": "319431d9-c3eb-41ab-bf58-4f3983c1e1ac",
   "metadata": {},
   "outputs": [],
   "source": [
    "%%time\n",
    "n_vis = 50\n",
    "bounds_vis = copy.deepcopy(bounds)\n",
    "target_values = copy.deepcopy(bounds)\n",
    "target_values[0][1] = np.log10(10)\n",
    "target_values[1][1] = np.log10(0.8)\n",
    "n_samples = min(100_000,n_sim_train)\n",
    "for index in POI_indices:\n",
    "    matches = plot_POI_matches([index, index],[target_values[index][0], target_values[index][1]], [n_vis,n_vis], bounds=bounds_vis, samples=samples[:n_samples])\n",
    "    A.import_counts(exp=observations[0][\"exp\"])\n",
    "    A.compute_case(new_fig=0,new_counts=0,plot_obs=0,color='k',label_exp=0, errorbands=False, transparency=0.5)"
   ]
  },
  {
   "cell_type": "code",
   "execution_count": null,
   "id": "03f5ca42-b5b5-4a5c-8ae9-90c2a9dc1c54",
   "metadata": {},
   "outputs": [],
   "source": [
    "# %%time\n",
    "# n_vis = 20\n",
    "# margin = 0.05\n",
    "# bounds_vis = copy.deepcopy(bounds)\n",
    "# for b, bound in enumerate(bounds_vis):\n",
    "#     bounds_vis[b][0] = truths[0][b]-margin*(bounds[b][1]-bounds[b][0])\n",
    "#     bounds_vis[b][1] = truths[0][b]+margin*(bounds[b][1]-bounds[b][0])\n",
    "# for index in [0,1]:\n",
    "#     bounds_vis[index]=copy.deepcopy(bounds[index])\n",
    "# print(truths)\n",
    "# print(bounds_vis)\n",
    "# target_values = copy.deepcopy(bounds)\n",
    "# target_values[0][1] = np.log10(10)\n",
    "# target_values[1][1] = np.log10(0.8)\n",
    "# n_samples = min(100_000,n_sim_train)\n",
    "# for index in POI_indices:\n",
    "#     matches = plot_POI_matches([index, index],[target_values[index][0], target_values[index][1]], [n_vis,n_vis], bounds=bounds_vis, samples=samples[:n_samples])\n",
    "#     A.import_counts(exp=observations[0][\"exp\"])\n",
    "#     A.compute_case(new_fig=0,new_counts=0,plot_obs=0,color='k',label_exp=0, errorbands=False, transparency=0.5)"
   ]
  },
  {
   "cell_type": "code",
   "execution_count": null,
   "id": "7aca3c28-3b3d-42f9-bce9-564d58f9c732",
   "metadata": {},
   "outputs": [],
   "source": [
    "coverage_samples = trainer.test_coverage(new_net, samples[-min(n_sim_coverage,100):], prior_samples[:min(len(prior_samples),10_000)])"
   ]
  },
  {
   "cell_type": "code",
   "execution_count": null,
   "id": "993c6dd3-48bd-44b7-a16d-998bee124c36",
   "metadata": {},
   "outputs": [],
   "source": [
    "columns = 3\n",
    "columns = min(len(POI_indices),columns)\n",
    "rows = int(np.ceil(len(POI_indices)/columns))\n",
    "#fix, axes = plt.subplots(rows, columns, figsize = (12, 4*rows))\n",
    "fix = plt.figure(figsize = (12, 4*rows))\n",
    "for i in range(len(POI_indices)):\n",
    "    j = int(i/columns)\n",
    "    k = i%columns\n",
    "    fix.add_subplot(rows, columns, i+1)\n",
    "    swyft.plot_pp(coverage_samples, \n",
    "                  np.array(A.param_names)[POI_indices][i], \n",
    "                  ax = fix.axes[i])\n",
    "plt.tight_layout()"
   ]
  },
  {
   "cell_type": "code",
   "execution_count": null,
   "id": "946989e4-2d3c-43bb-af8b-25e37108a98d",
   "metadata": {},
   "outputs": [],
   "source": [
    "columns = 3\n",
    "columns = min(len(POI_indices),columns)\n",
    "rows = int(np.ceil(len(POI_indices)/columns))\n",
    "fix = plt.figure(figsize = (12, 4*rows))\n",
    "for i in range(len(POI_indices)):\n",
    "    j = int(i/columns)\n",
    "    k = i%columns\n",
    "    fix.add_subplot(rows, columns, i+1)\n",
    "    swyft.plot_zz(coverage_samples, \n",
    "                  np.array(A.param_names)[POI_indices][i], \n",
    "                  ax = fix.axes[i])\n",
    "plt.tight_layout()"
   ]
  },
  {
   "cell_type": "code",
   "execution_count": null,
   "id": "d3f5b5f1-84a9-4b76-b5ed-5403808b3d55",
   "metadata": {},
   "outputs": [],
   "source": [
    "marginals_2d = []\n",
    "for i, el in enumerate(POI_indices[:-1]):\n",
    "    for j in np.arange(i+1,len(POI_indices)):\n",
    "        marginals_2d.append( (el,POI_indices[j]) )\n",
    "marginals_2d = tuple(marginals_2d)"
   ]
  },
  {
   "cell_type": "code",
   "execution_count": null,
   "id": "03be2f5e-da1c-4c29-8298-0625445bb143",
   "metadata": {},
   "outputs": [],
   "source": [
    "columns = 3\n",
    "columns = min(len(marginals_2d),columns)\n",
    "rows = int(np.ceil(len(marginals_2d)/columns))\n",
    "fix = plt.figure(figsize = (12, 4*rows))\n",
    "for i in range(len(marginals_2d)):\n",
    "    j = int(i/columns)\n",
    "    k = i%columns\n",
    "    fix.add_subplot(rows, columns, i+1)\n",
    "    swyft.plot_pp(coverage_samples, \n",
    "                  [[np.array(param_names)[POI_indices][j] for j in marginal] for marginal in marginals_2d ][i], \n",
    "                  ax = fix.axes[i])\n",
    "plt.tight_layout()"
   ]
  },
  {
   "cell_type": "code",
   "execution_count": null,
   "id": "45d8149e-2809-4fe9-be50-6856787a82e2",
   "metadata": {},
   "outputs": [],
   "source": [
    "columns = 3\n",
    "columns = min(len(marginals_2d),columns)\n",
    "rows = int(np.ceil(len(marginals_2d)/columns))\n",
    "fix = plt.figure(figsize = (12, 4*rows))\n",
    "for i in range(len(marginals_2d)):\n",
    "    j = int(i/columns)\n",
    "    k = i%columns\n",
    "    fix.add_subplot(rows, columns, i+1)\n",
    "    swyft.plot_zz(coverage_samples, \n",
    "                  [[np.array(param_names)[POI_indices][j] for j in marginal] for marginal in marginals_2d ][i], \n",
    "                  ax = fix.axes[i])\n",
    "plt.tight_layout()"
   ]
  }
 ],
 "metadata": {
  "kernelspec": {
   "display_name": "Python 3 (ipykernel)",
   "language": "python",
   "name": "python3"
  },
  "language_info": {
   "codemirror_mode": {
    "name": "ipython",
    "version": 3
   },
   "file_extension": ".py",
   "mimetype": "text/x-python",
   "name": "python",
   "nbconvert_exporter": "python",
   "pygments_lexer": "ipython3",
   "version": "3.9.7"
  }
 },
 "nbformat": 4,
 "nbformat_minor": 5
}
